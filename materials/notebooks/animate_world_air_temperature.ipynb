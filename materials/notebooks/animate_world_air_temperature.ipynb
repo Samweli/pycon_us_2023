{
 "cells": [
  {
   "cell_type": "markdown",
   "id": "69516b90",
   "metadata": {},
   "source": [
    "### An example python application for temporal animation of world air temperature"
   ]
  },
  {
   "cell_type": "markdown",
   "id": "5886474e",
   "metadata": {},
   "source": [
    "Import required libraries from QGIS, note that we the Qt library provided by QGIS"
   ]
  },
  {
   "cell_type": "code",
   "execution_count": 1,
   "id": "741bc327",
   "metadata": {},
   "outputs": [],
   "source": [
    "from functools import partial\n",
    "from qgis.core import *\n",
    "from qgis.gui import QgsMapCanvas, QgsSlider\n",
    "\n",
    "from qgis.PyQt.QtWidgets import QFrame, QGridLayout, QMainWindow, QPushButton, QHBoxLayout\n",
    "from qgis.PyQt.QtCore import QDateTime, QDate, QTime, Qt"
   ]
  },
  {
   "cell_type": "markdown",
   "id": "5ec8fdab",
   "metadata": {},
   "source": [
    "Start QGIS Application.\n",
    "**NOTE**: Make sure tp change the prefix path to match the location path of where QGIS\n",
    "has been installed in the system."
   ]
  },
  {
   "cell_type": "code",
   "execution_count": 2,
   "id": "d114e053",
   "metadata": {},
   "outputs": [
    {
     "name": "stderr",
     "output_type": "stream",
     "text": [
      "Warning: Ignoring XDG_SESSION_TYPE=wayland on Gnome. Use QT_QPA_PLATFORM=wayland to run on Wayland anyway.\n"
     ]
    }
   ],
   "source": [
    "application = QgsApplication([], False)\n",
    "\n",
    "# The prefix path varies depending on the method of installation\n",
    "# used to install QGIS and the OS in use.\n",
    "# If conda package manager was used to install QGIS then the\n",
    "# prefix path should be location of the qgis package.\n",
    "# Otherwise the prefix path should be the location of where\n",
    "# QGIS application has been installed.\n",
    "QgsApplication.setPrefixPath('/usr', True)\n",
    "QgsApplication.initQgis()"
   ]
  },
  {
   "cell_type": "markdown",
   "id": "b4a5671e",
   "metadata": {},
   "source": [
    "Define helper functions that will be used to update the map canvas content"
   ]
  },
  {
   "cell_type": "code",
   "execution_count": 3,
   "id": "64f7523a",
   "metadata": {},
   "outputs": [],
   "source": [
    "def slider_value_changed(map_canvas, dates, value):\n",
    "    get_date(map_canvas, dates[value])\n",
    "\n",
    "\n",
    "def get_date(map_canvas, date):\n",
    "    time = QgsDateTimeRange(\n",
    "        date,\n",
    "        date\n",
    "    )\n",
    "    map_canvas.setTemporalRange(time)\n",
    "    map_canvas.refresh()"
   ]
  },
  {
   "cell_type": "markdown",
   "id": "aa11ec1d",
   "metadata": {},
   "source": [
    "Function to handle the date buttons and their events."
   ]
  },
  {
   "cell_type": "code",
   "execution_count": 4,
   "id": "97eba863",
   "metadata": {},
   "outputs": [],
   "source": [
    "def set_date_widgets(\n",
    "        map_canvas,\n",
    "        main_window,\n",
    "        frame,\n",
    "        layout\n",
    "):\n",
    "    date_one = QPushButton('2023-04-21 12:00:00')\n",
    "    date_two = QPushButton('2023-04-21 15:00:00')\n",
    "    date_three = QPushButton('2023-04-21 18:00:00')\n",
    "    date_four = QPushButton('2023-04-21 21:00:00')\n",
    "    date_five = QPushButton('2023-04-22 00:00:00')\n",
    "    date_six = QPushButton('2023-04-22 03:00:00')\n",
    "\n",
    "    date_time_one = QDateTime(QDate(2023, 4, 21), QTime(12, 00, 00))\n",
    "    date_time_two = QDateTime(QDate(2023, 4, 21), QTime(15, 00, 00))\n",
    "    date_time_three = QDateTime(QDate(2023, 4, 21), QTime(18, 00, 00))\n",
    "    date_time_four = QDateTime(QDate(2023, 4, 21), QTime(21, 00, 00))\n",
    "    date_time_five = QDateTime(QDate(2023, 4, 22), QTime(00, 00, 00))\n",
    "    date_time_six = QDateTime(QDate(2023, 4, 22), QTime(3, 00, 00))\n",
    "\n",
    "\n",
    "    animate_date_one = partial(get_date, map_canvas, date_time_one)\n",
    "    date_one.clicked.connect(animate_date_one)\n",
    "\n",
    "    animate_date_two = partial(get_date, map_canvas, date_time_two)\n",
    "    date_two.clicked.connect(animate_date_two)\n",
    "\n",
    "    animate_date_three = partial(get_date, map_canvas, date_time_three)\n",
    "    date_three.clicked.connect(animate_date_three)\n",
    "\n",
    "    animate_date_four = partial(get_date, map_canvas, date_time_four)\n",
    "    date_four.clicked.connect(animate_date_four)\n",
    "\n",
    "    animate_date_five = partial(get_date, map_canvas, date_time_five)\n",
    "    date_five.clicked.connect(animate_date_five)\n",
    "\n",
    "    animate_date_six = partial(get_date, map_canvas, date_time_six)\n",
    "    date_six.clicked.connect(animate_date_six)\n",
    "\n",
    "    dates = [\n",
    "        date_time_one,\n",
    "        date_time_two,\n",
    "        date_time_three,\n",
    "        date_time_four,\n",
    "        date_time_five,\n",
    "        date_time_six\n",
    "    ]\n",
    "\n",
    "    slider = QgsSlider(Qt.Orientation.Horizontal, main_window)\n",
    "    value_changed = partial(slider_value_changed, map_canvas, dates)\n",
    "    slider.valueChanged.connect(value_changed)\n",
    "    slider.setMinimum(0)\n",
    "    slider.setMaximum(5)\n",
    "    slider.setSingleStep(1)\n",
    "    slider.setTickPosition(QgsSlider.TickPosition.TicksBothSides)\n",
    "    slider.setTracking(True)\n",
    "\n",
    "    h_layout = QHBoxLayout(frame)\n",
    "    h_layout.addWidget(date_one)\n",
    "    h_layout.addWidget(date_two)\n",
    "    h_layout.addWidget(date_three)\n",
    "    h_layout.addWidget(date_four)\n",
    "    h_layout.addWidget(date_five)\n",
    "    h_layout.addWidget(date_six)\n",
    "\n",
    "    layout.addLayout(h_layout, 1, 0)\n",
    "    layout.addWidget(slider)\n"
   ]
  },
  {
   "cell_type": "markdown",
   "id": "9dc29686",
   "metadata": {},
   "source": [
    "Create main function that defines the main window."
   ]
  },
  {
   "cell_type": "code",
   "execution_count": 5,
   "id": "62bcc770",
   "metadata": {},
   "outputs": [],
   "source": [
    "def run():\n",
    "    application = QgsApplication([], False)\n",
    "\n",
    "    QgsApplication.setPrefixPath('/usr', True)\n",
    "    QgsApplication.initQgis()\n",
    "\n",
    "    main_window = QMainWindow()\n",
    "    main_window.setWindowTitle(\n",
    "        \"Python with QGIS animation example | \"\n",
    "        \"PyCon US 2023\"\n",
    "    )\n",
    "    frame = QFrame()\n",
    "    main_window.setCentralWidget(frame)\n",
    "    layout = QGridLayout(frame)\n",
    "\n",
    "    map_canvas = QgsMapCanvas()\n",
    "    layout.addWidget(map_canvas)\n",
    "\n",
    "    raster_layer = QgsRasterLayer(\n",
    "        'crs=EPSG:4326&dpiMode=7&format=image/png&layers=GDPS.ETA_TT&'\n",
    "        'referenceTimeDimensionExtent=2023-04-20T00:00:00Z/2023-04-21T12:00:00Z/PT12H&'\n",
    "        'styles&temporalSource=provider&'\n",
    "        'timeDimensionExtent=2023-04-21T12:00:00Z/2023-05-01T12:00:00Z/PT3H&'\n",
    "        'type=wmst&url=https://geo.weather.gc.ca/geomet?layers%3DGDPS.ETA_TT',\n",
    "        'air',\n",
    "        'wms'\n",
    "    )\n",
    "\n",
    "    QgsProject.instance().addMapLayer(raster_layer)\n",
    "\n",
    "    map_canvas.setLayers([raster_layer])\n",
    "    map_canvas.setExtent(raster_layer.extent())\n",
    "\n",
    "    set_date_widgets(\n",
    "        map_canvas,\n",
    "        main_window,\n",
    "        frame,\n",
    "        layout\n",
    "    )\n",
    "\n",
    "    main_window.show()\n",
    "    application.exec_()\n"
   ]
  },
  {
   "cell_type": "markdown",
   "id": "701365ec",
   "metadata": {},
   "source": [
    "Calling the main function"
   ]
  },
  {
   "cell_type": "code",
   "execution_count": null,
   "id": "d12e1b6e",
   "metadata": {},
   "outputs": [
    {
     "name": "stderr",
     "output_type": "stream",
     "text": [
      "QLayout: Attempting to add QLayout \"\" to QFrame \"\", which already has a layout\n"
     ]
    }
   ],
   "source": [
    "run()"
   ]
  },
  {
   "cell_type": "code",
   "execution_count": null,
   "id": "2af52f17",
   "metadata": {},
   "outputs": [],
   "source": []
  }
 ],
 "metadata": {
  "kernelspec": {
   "display_name": "Python 3 (ipykernel)",
   "language": "python",
   "name": "python3"
  },
  "language_info": {
   "codemirror_mode": {
    "name": "ipython",
    "version": 3
   },
   "file_extension": ".py",
   "mimetype": "text/x-python",
   "name": "python",
   "nbconvert_exporter": "python",
   "pygments_lexer": "ipython3",
   "version": "3.10.6"
  }
 },
 "nbformat": 4,
 "nbformat_minor": 5
}
