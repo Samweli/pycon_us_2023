{
 "cells": [
  {
   "cell_type": "markdown",
   "id": "69516b90",
   "metadata": {},
   "source": [
    "### Simple QGIS Python application"
   ]
  },
  {
   "cell_type": "markdown",
   "id": "5886474e",
   "metadata": {},
   "source": [
    "Import required libraries from QGIS note that we are using Qt API that is from QGIS"
   ]
  },
  {
   "cell_type": "code",
   "execution_count": 1,
   "id": "741bc327",
   "metadata": {},
   "outputs": [],
   "source": [
    "from qgis.core import *\n",
    "from qgis.gui import QgsMapCanvas\n",
    "from qgis.PyQt.QtWidgets import QFrame, QGridLayout, QMainWindow"
   ]
  },
  {
   "cell_type": "markdown",
   "id": "5ec8fdab",
   "metadata": {},
   "source": [
    "Start QGIS Application.\n",
    "**NOTE**: Make sure you change the prefix path to match the location path of where QGIS\n",
    "has been installed in the system."
   ]
  },
  {
   "cell_type": "code",
   "execution_count": 2,
   "id": "d114e053",
   "metadata": {},
   "outputs": [
    {
     "name": "stderr",
     "output_type": "stream",
     "text": [
      "Warning: Ignoring XDG_SESSION_TYPE=wayland on Gnome. Use QT_QPA_PLATFORM=wayland to run on Wayland anyway.\n"
     ]
    }
   ],
   "source": [
    "application = QgsApplication([], False)\n",
    "\n",
    "# The prefix path varies depending on the method of installation\n",
    "# used to install QGIS and the OS in use.\n",
    "# If conda package manager was used to install QGIS then the\n",
    "# prefix path should be location of the qgis package.\n",
    "# Otherwise the prefix path should be the location of where\n",
    "# QGIS application has been installed.\n",
    "QgsApplication.setPrefixPath('/usr', True)\n",
    "QgsApplication.initQgis()"
   ]
  },
  {
   "cell_type": "markdown",
   "id": "9dc29686",
   "metadata": {},
   "source": [
    "Create main application window and add a QGIS map canvas into it."
   ]
  },
  {
   "cell_type": "code",
   "execution_count": 3,
   "id": "62bcc770",
   "metadata": {},
   "outputs": [],
   "source": [
    "main_window = QMainWindow()\n",
    "main_window.setWindowTitle(\n",
    "    \"Python with QGIS example | \"\n",
    "    \"PyCon US 2023\"\n",
    ")\n",
    "frame = QFrame()\n",
    "main_window.setCentralWidget(frame)\n",
    "layout = QGridLayout(frame)\n",
    "\n",
    "map_canvas = QgsMapCanvas()\n",
    "layout.addWidget(map_canvas)"
   ]
  },
  {
   "cell_type": "markdown",
   "id": "701365ec",
   "metadata": {},
   "source": [
    "Create a raster layer using a QGIS sample data found here https://github.com/qgis/QGIS-Sample-Data/blob/master/qgis_sample_data/raster/SR_50M_alaska_nad.tif and add it into QGIS project "
   ]
  },
  {
   "cell_type": "code",
   "execution_count": 4,
   "id": "d12e1b6e",
   "metadata": {},
   "outputs": [
    {
     "data": {
      "text/plain": [
       "<QgsRasterLayer: 'test_layer' (gdal)>"
      ]
     },
     "execution_count": 4,
     "metadata": {},
     "output_type": "execute_result"
    }
   ],
   "source": [
    "raster_file_uri = 'https://github.com/qgis/QGIS-Sample-Data/' \\\n",
    "                  'blob/master/qgis_sample_data/raster/' \\\n",
    "                  'SR_50M_alaska_nad.tif?raw=true'\n",
    "\n",
    "raster_layer = QgsRasterLayer(raster_file_uri, 'test_layer')\n",
    "\n",
    "QgsProject.instance().addMapLayer(raster_layer)\n"
   ]
  },
  {
   "cell_type": "markdown",
   "id": "2542b969",
   "metadata": {},
   "source": [
    "Set the map canvas layers into the layer created above and zoom the map canvas to the added layer extent"
   ]
  },
  {
   "cell_type": "code",
   "execution_count": 5,
   "id": "5796de6b",
   "metadata": {},
   "outputs": [],
   "source": [
    "map_canvas.setLayers([raster_layer])\n",
    "map_canvas.setExtent(raster_layer.extent())"
   ]
  },
  {
   "cell_type": "markdown",
   "id": "3af43de2",
   "metadata": {},
   "source": [
    "Run the main application"
   ]
  },
  {
   "cell_type": "code",
   "execution_count": 6,
   "id": "41568b1c",
   "metadata": {},
   "outputs": [
    {
     "data": {
      "text/plain": [
       "0"
      ]
     },
     "execution_count": 6,
     "metadata": {},
     "output_type": "execute_result"
    }
   ],
   "source": [
    "main_window.show()\n",
    "application.exec_()"
   ]
  },
  {
   "cell_type": "code",
   "execution_count": null,
   "id": "f4672396",
   "metadata": {},
   "outputs": [],
   "source": []
  }
 ],
 "metadata": {
  "kernelspec": {
   "display_name": "Python 3 (ipykernel)",
   "language": "python",
   "name": "python3"
  },
  "language_info": {
   "codemirror_mode": {
    "name": "ipython",
    "version": 3
   },
   "file_extension": ".py",
   "mimetype": "text/x-python",
   "name": "python",
   "nbconvert_exporter": "python",
   "pygments_lexer": "ipython3",
   "version": "3.10.6"
  }
 },
 "nbformat": 4,
 "nbformat_minor": 5
}
